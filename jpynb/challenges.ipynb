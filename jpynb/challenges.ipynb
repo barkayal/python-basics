{
 "cells": [
  {
   "cell_type": "code",
   "execution_count": 1,
   "id": "be68630a-4de1-4771-adb9-87bdb98b805e",
   "metadata": {},
   "outputs": [],
   "source": [
    "hexNumbers = {\n",
    "    '0': 0, '1': 1, '2': 2, '3': 3, '4': 4, '5': 5, '6': 6, '7': 7, '8': 8, '9': 9,\n",
    "    'A': 10, 'B': 11, 'C': 12, 'D': 13, 'E': 14, 'F': 15\n",
    "}"
   ]
  },
  {
   "cell_type": "code",
   "execution_count": 2,
   "id": "4efddd44-5c4c-4a2f-a64f-6af9e56c7e6d",
   "metadata": {},
   "outputs": [
    {
     "name": "stdout",
     "output_type": "stream",
     "text": [
      "The index is 0 and the letter is a\n",
      "The index is 1 and the letter is s\n",
      "The index is 2 and the letter is d\n"
     ]
    }
   ],
   "source": [
    "mmm = 'asd'\n",
    "for i in range(len(mmm)):\n",
    "    print(\"The index is\", i, \"and the letter is\", mmm[i])"
   ]
  },
  {
   "cell_type": "code",
   "execution_count": 3,
   "id": "3a31a88c-1fba-475d-b367-afa379b9b5e6",
   "metadata": {},
   "outputs": [],
   "source": [
    "# Converts a string hexadecimal number into an integer decimal\n",
    "# If hexNum is not a valid hexadecimal number, returns None\n",
    "def hexToDec(hexNum):\n",
    "    if len(hexNum) > 3:\n",
    "        return None\n",
    "    reverse = hexNum[::-1].upper()\n",
    "    dec = 0\n",
    "    for i in range(len(reverse)):\n",
    "        if reverse[i] not in hexNumbers:\n",
    "            return None\n",
    "        dec += (16 ** i) * hexNumbers[reverse[i]]\n",
    "    return dec"
   ]
  },
  {
   "cell_type": "code",
   "execution_count": 4,
   "id": "6d38a7a4-19be-4acb-bf25-aa1ab6e1d103",
   "metadata": {},
   "outputs": [
    {
     "name": "stdout",
     "output_type": "stream",
     "text": [
      "162\n",
      "162\n",
      "3243\n",
      "0\n",
      "None\n",
      "None\n"
     ]
    }
   ],
   "source": [
    "print(hexToDec('A2'))\n",
    "print(hexToDec('a2'))\n",
    "print(hexToDec('CAB'))\n",
    "print(hexToDec('0'))\n",
    "print(hexToDec('sample'))\n",
    "print(hexToDec('ZZ'))"
   ]
  },
  {
   "cell_type": "code",
   "execution_count": 5,
   "id": "ebbd01dc-ab68-46aa-ba6f-b4746f320c91",
   "metadata": {
    "scrolled": true
   },
   "outputs": [
    {
     "name": "stdout",
     "output_type": "stream",
     "text": [
      "[('A', 5), ('B', 4), ('A', 3)]\n",
      "[('B', 1), ('o', 2), ('k', 2), ('e', 2), ('p', 1), ('i', 1), ('n', 1), ('g', 1)]\n"
     ]
    }
   ],
   "source": [
    "# encode a string in a tuple list of the letters: \n",
    "# 'AAAAABBBAAA' => [('A', 5), ('B', 4), ('A', 3)]\n",
    "def encodeString(stringVal):\n",
    "    result = []\n",
    "    letter = stringVal[0]\n",
    "    counter = 1\n",
    "    for current_letter in stringVal[1:]:\n",
    "        if current_letter != letter:\n",
    "            result.append((letter, counter))\n",
    "            counter, letter = 1, current_letter\n",
    "        else:\n",
    "            counter += 1\n",
    "    result.append((letter, counter))\n",
    "    return result\n",
    "\n",
    "print(encodeString('AAAAABBBBAAA'))\n",
    "print(encodeString('Bookkeeping'))"
   ]
  },
  {
   "cell_type": "code",
   "execution_count": 6,
   "id": "20979227-1e32-481c-ad05-102e553ae3ab",
   "metadata": {},
   "outputs": [
    {
     "name": "stdout",
     "output_type": "stream",
     "text": [
      "AAAAABBBBAAA\n",
      "Bookkeeping\n"
     ]
    }
   ],
   "source": [
    "# encode a string in a tuple list of the letters: \n",
    "# [('A', 5), ('B', 4), ('A', 3)] => 'AAAAABBBAAA'\n",
    "def dencodeString(encodedList):\n",
    "    result = ''\n",
    "    for letter, counter in encodedList:\n",
    "        result += letter*counter\n",
    "    return result\n",
    "\n",
    "print(dencodeString([('A', 5), ('B', 4), ('A', 3)]))\n",
    "print(dencodeString([('B', 1), ('o', 2), ('k', 2), ('e', 2), ('p', 1), ('i', 1), ('n', 1), ('g', 1)]))"
   ]
  },
  {
   "cell_type": "code",
   "execution_count": 7,
   "id": "d470510c-361d-41a2-8bcf-c39ee7873c5f",
   "metadata": {},
   "outputs": [],
   "source": [
    "# all prime numbers up to a num\n",
    "def allPrimesUpTo(num):\n",
    "    primes = []\n",
    "    for number in range(2, num):\n",
    "        for factor in primes:\n",
    "            if number % factor == 0:\n",
    "                break\n",
    "            if factor > (int(num**0.5)+1):\n",
    "                continue\n",
    "        else:\n",
    "            primes.append(number)\n",
    "    return primes"
   ]
  },
  {
   "cell_type": "code",
   "execution_count": 8,
   "id": "1b5273af-2338-4833-ad74-b647c3c25c48",
   "metadata": {},
   "outputs": [
    {
     "name": "stdout",
     "output_type": "stream",
     "text": [
      "[2, 3, 5, 7]\n",
      "[2, 3, 5, 7, 11, 13, 17, 19, 23, 29, 31, 37, 41, 43, 47]\n"
     ]
    }
   ],
   "source": [
    "print(allPrimesUpTo(8))\n",
    "print(allPrimesUpTo(50))"
   ]
  },
  {
   "cell_type": "code",
   "execution_count": 9,
   "id": "16a581df-41cf-4b84-b6cf-0acf3641a974",
   "metadata": {},
   "outputs": [
    {
     "data": {
      "text/plain": [
       "25"
      ]
     },
     "execution_count": 9,
     "metadata": {},
     "output_type": "execute_result"
    }
   ],
   "source": [
    "def triangle(num):\n",
    "    if num == 1:\n",
    "        return num\n",
    "    return num + triangle(num - 1)\n",
    "\n",
    "def square(num):\n",
    "    return triangle(num-1) + triangle(num)\n",
    "\n",
    "square(5)"
   ]
  },
  {
   "cell_type": "code",
   "execution_count": 10,
   "id": "892dc06f-3f2b-46e7-b88d-a063e4110a6a",
   "metadata": {},
   "outputs": [
    {
     "name": "stdout",
     "output_type": "stream",
     "text": [
      "#####\n",
      "#####\n",
      "#####\n",
      "#####\n",
      "#####\n",
      "#       \n",
      "##      \n",
      "###     \n",
      "####    \n",
      "#####   \n",
      "    #    \n",
      "   ##   \n",
      "   ###   \n",
      "  ####  \n",
      "  #####  \n"
     ]
    }
   ],
   "source": [
    "class Shape:\n",
    "\twidth = 5\n",
    "\theight = 5\n",
    "\tprintChar = '#'\n",
    "\n",
    "\tdef printRow(self, i):\n",
    "\t\traise NotImplementedError(\"Will be implemented by children extending this class\")\n",
    "\n",
    "\tdef print(self):\n",
    "\t\tfor i in range(self.height):\n",
    "\t\t\tself.printRow(i)\n",
    "\n",
    "\n",
    "class Square(Shape):\n",
    "\tdef printRow(self, i):\n",
    "\t\tprint(self.printChar * self.width)\n",
    "\n",
    "class RTriangle(Shape):\n",
    "    def printRow(self, i):\n",
    "        chars, spaces = i+1, self.width-i+1\n",
    "        print(self.printChar * chars, ' '*spaces)\n",
    "class ITriangle(Shape):\n",
    "    def printRow(self, i):\n",
    "        chars, spaces = i+1, int((self.width-i+1)/2)\n",
    "        print(' '*spaces, self.printChar * chars, ' '*spaces)\n",
    "\n",
    "\n",
    "square = Square()\n",
    "square.print()\n",
    "right_triangle = RTriangle()\n",
    "right_triangle.print()\n",
    "isos_triangle = ITriangle()\n",
    "isos_triangle.print()"
   ]
  },
  {
   "cell_type": "code",
   "execution_count": 11,
   "id": "18c8af1c-49e8-41c8-b185-12125456732d",
   "metadata": {},
   "outputs": [
    {
     "name": "stdout",
     "output_type": "stream",
     "text": [
      "There was a zero division error!\n"
     ]
    }
   ],
   "source": [
    "def handleException(func):\n",
    "    def wrapper(*args):\n",
    "        try:\n",
    "            func(*args)\n",
    "        except TypeError:\n",
    "            print('There was a type error!')\n",
    "        except ZeroDivisionError:\n",
    "            print('There was a zero division error!')\n",
    "        except Exception:\n",
    "            print('There was some sort of error!')\n",
    "    return wrapper\n",
    "\n",
    "@handleException\n",
    "def causeError():\n",
    "    return 1/0\n",
    "\n",
    "causeError()"
   ]
  },
  {
   "cell_type": "code",
   "execution_count": 13,
   "id": "605b8268-51f3-41f2-a2fa-4b428e3c829a",
   "metadata": {},
   "outputs": [
    {
     "name": "stdout",
     "output_type": "stream",
     "text": [
      "There was some sort of error!\n"
     ]
    }
   ],
   "source": [
    "@handleException\n",
    "def raiseError(n):\n",
    "    if n == 0:\n",
    "        raise Exception()\n",
    "    print(n)\n",
    "    \n",
    "raiseError(0)"
   ]
  }
 ],
 "metadata": {
  "kernelspec": {
   "display_name": "Python 3 (ipykernel)",
   "language": "python",
   "name": "python3"
  },
  "language_info": {
   "codemirror_mode": {
    "name": "ipython",
    "version": 3
   },
   "file_extension": ".py",
   "mimetype": "text/x-python",
   "name": "python",
   "nbconvert_exporter": "python",
   "pygments_lexer": "ipython3",
   "version": "3.13.8"
  }
 },
 "nbformat": 4,
 "nbformat_minor": 5
}
