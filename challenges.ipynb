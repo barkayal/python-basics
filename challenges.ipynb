{
 "cells": [
  {
   "cell_type": "code",
   "execution_count": 1,
   "id": "be68630a-4de1-4771-adb9-87bdb98b805e",
   "metadata": {},
   "outputs": [],
   "source": [
    "hexNumbers = {\n",
    "    '0': 0, '1': 1, '2': 2, '3': 3, '4': 4, '5': 5, '6': 6, '7': 7, '8': 8, '9': 9,\n",
    "    'A': 10, 'B': 11, 'C': 12, 'D': 13, 'E': 14, 'F': 15\n",
    "}"
   ]
  },
  {
   "cell_type": "code",
   "execution_count": 2,
   "id": "4efddd44-5c4c-4a2f-a64f-6af9e56c7e6d",
   "metadata": {},
   "outputs": [
    {
     "name": "stdout",
     "output_type": "stream",
     "text": [
      "The index is 0 and the letter is a\n",
      "The index is 1 and the letter is s\n",
      "The index is 2 and the letter is d\n"
     ]
    }
   ],
   "source": [
    "mmm = 'asd'\n",
    "for i in range(len(mmm)):\n",
    "    print(\"The index is\", i, \"and the letter is\", mmm[i])"
   ]
  },
  {
   "cell_type": "code",
   "execution_count": 3,
   "id": "3a31a88c-1fba-475d-b367-afa379b9b5e6",
   "metadata": {},
   "outputs": [],
   "source": [
    "# Converts a string hexadecimal number into an integer decimal\n",
    "# If hexNum is not a valid hexadecimal number, returns None\n",
    "def hexToDec(hexNum):\n",
    "    if len(hexNum) > 3:\n",
    "        return None\n",
    "    reverse = hexNum[::-1].upper()\n",
    "    dec = 0\n",
    "    for i in range(len(reverse)):\n",
    "        if reverse[i] not in hexNumbers:\n",
    "            return None\n",
    "        dec += (16 ** i) * hexNumbers[reverse[i]]\n",
    "    return dec"
   ]
  },
  {
   "cell_type": "code",
   "execution_count": 4,
   "id": "6d38a7a4-19be-4acb-bf25-aa1ab6e1d103",
   "metadata": {},
   "outputs": [
    {
     "name": "stdout",
     "output_type": "stream",
     "text": [
      "162\n",
      "162\n",
      "3243\n",
      "0\n",
      "None\n",
      "None\n"
     ]
    }
   ],
   "source": [
    "print(hexToDec('A2'))\n",
    "print(hexToDec('a2'))\n",
    "print(hexToDec('CAB'))\n",
    "print(hexToDec('0'))\n",
    "print(hexToDec('sample'))\n",
    "print(hexToDec('ZZ'))"
   ]
  }
 ],
 "metadata": {
  "kernelspec": {
   "display_name": "Python 3 (ipykernel)",
   "language": "python",
   "name": "python3"
  },
  "language_info": {
   "codemirror_mode": {
    "name": "ipython",
    "version": 3
   },
   "file_extension": ".py",
   "mimetype": "text/x-python",
   "name": "python",
   "nbconvert_exporter": "python",
   "pygments_lexer": "ipython3",
   "version": "3.13.8"
  }
 },
 "nbformat": 4,
 "nbformat_minor": 5
}
